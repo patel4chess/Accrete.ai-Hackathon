{
 "cells": [
  {
   "cell_type": "markdown",
   "metadata": {},
   "source": [
    "## Importing the Dataset and Libraries"
   ]
  },
  {
   "cell_type": "code",
   "execution_count": 1,
   "metadata": {},
   "outputs": [],
   "source": [
    "import pandas as pd\n",
    "pd.set_option('display.max_colwidth', -1)\n",
    "import numpy as np\n",
    "from sklearn.feature_extraction.text import TfidfVectorizer,CountVectorizer\n",
    "from sklearn import metrics"
   ]
  },
  {
   "cell_type": "code",
   "execution_count": 2,
   "metadata": {},
   "outputs": [],
   "source": [
    "data = pd.read_csv('Train_Data.csv')"
   ]
  },
  {
   "cell_type": "code",
   "execution_count": 3,
   "metadata": {},
   "outputs": [
    {
     "data": {
      "text/html": [
       "<div>\n",
       "<style scoped>\n",
       "    .dataframe tbody tr th:only-of-type {\n",
       "        vertical-align: middle;\n",
       "    }\n",
       "\n",
       "    .dataframe tbody tr th {\n",
       "        vertical-align: top;\n",
       "    }\n",
       "\n",
       "    .dataframe thead th {\n",
       "        text-align: right;\n",
       "    }\n",
       "</style>\n",
       "<table border=\"1\" class=\"dataframe\">\n",
       "  <thead>\n",
       "    <tr style=\"text-align: right;\">\n",
       "      <th></th>\n",
       "      <th>Title</th>\n",
       "      <th>Date</th>\n",
       "      <th>Abstract</th>\n",
       "      <th>Subjects</th>\n",
       "    </tr>\n",
       "  </thead>\n",
       "  <tbody>\n",
       "    <tr>\n",
       "      <th>0</th>\n",
       "      <td>The Neutrino Ball Model of a Quasar</td>\n",
       "      <td>1993-04-07</td>\n",
       "      <td>It is suggested that the nonorthodox model of a quasar as a neutrino ball\\ndescribed in terms of the standard model extended by adding right-handed\\nneutrinos and the Majorana scalar field can be presented in order to explain a\\nquasar as a body of weak interacting neutrinos. Neutrino interaction with the\\nscalar Majorana field violates the lepton number and produces the mass\\nsplitting of the neutrino due to the sea-saw mechanism. In this model a quasar\\nis an object which appears in the result of the first order cosmological phase\\ntransition. In this interpretation a quasar may be regarded as a ball filled\\nwith Dirac neutrinos and can be treated as a remnant of phase transition with\\nunbroken global lepton symmetry. In this paper we study the macroscopic\\nparameters of such a configuration. In the result the mass-radius curve M(R)\\nfor the quasar is obtained.\\n</td>\n",
       "      <td>['Astrophysics']</td>\n",
       "    </tr>\n",
       "    <tr>\n",
       "      <th>1</th>\n",
       "      <td>Charged Boson Stars and Vacuum Instabilities</td>\n",
       "      <td>1993-05-12</td>\n",
       "      <td>We consider charged boson stars and study their effect on the structure of\\nthe vacuum. For very compact particle like ``stars\", with constituent mass\\n$m_{*}$ close to the Planck mass $m_{Pl}$, i.e. $m_{*}^{2} = {\\\\cal O} (\\\\alpha\\nm_{Pl}^{2})$, we argue that there is a limiting total electric charge $Z_c$,\\nwhich, primarily, is due to the formation of a pion condensate ($Z_{c} \\\\simeq\\n0.5\\\\alpha^{-1}e$, where $\\\\alpha$ is the fine structure constant and $e$ is the\\nelectric charge of the positron). If the charge of the ``star\" is larger than\\n$Z_c$ we find numerical evidence for a complete screening indicating a limiting\\ncharge for a very compact object.\\n  There is also a less efficient competing charge screening mechanism due to\\nspontaneous electron-positron pair creation in which case $Z_{c} \\\\simeq\\n\\\\alpha^{-1}e$. Astrophysical and cosmological abundances of charged compact\\nboson stars are briefly discussed in terms of dark matter.\\n</td>\n",
       "      <td>['Astrophysics', 'General Relativity and Quantum Cosmology']</td>\n",
       "    </tr>\n",
       "    <tr>\n",
       "      <th>2</th>\n",
       "      <td>Pre-main sequence lithium burning. I. Weak T Tauri stars</td>\n",
       "      <td>1993-08-31</td>\n",
       "      <td>We derive lithium abundances in 53 T Tauri stars (TTS), concentrating on\\nweak-line TTS. Our study gives the following results: 1)At luminosities $\\\\ge\\n0.9 L\\\\sun$ the Li abundances are remarkably uniform, with a mean value,\\nlog~N(Li)=3.1, equal to the \"cosmic\" lithium abundance. 2)Significant Li\\ndepletion appears below 0.5~L$\\\\sun$ in the mass range 0.9-0.2 M$\\\\sun$ and\\nincreases towards lower luminosities. At the lower mass end (0.4-0.2 M$\\\\sun$),\\nthe observed luminosity of the Li burning turning point is about a factor 4\\nhigher than predicted by the models. At masses 1.2-1.0 M$\\\\sun$ the observations\\nimply less PMS Li burning than theoretically expected. Moreover we show that:\\n1)Low Li abundances appear only among stars with low $v\\\\sin{i}$. Fast rotators\\nwith masses around 0.8~M$\\\\sun$ do not show evidence for strong Li depletion\\ntowards lower luminosities as slow rotators do. 2)In a sample restricted to\\nonly K5-K7 stars we find that the angular momentum spread before Li burning\\nbegins is larger than a factor 10. Lithium depletion associated to angular\\nmomentum loss during PMS evolution is not required to explain the observed\\nabundances. The efficiency of PMS Li burning in the mass range 0.9-0.7~M$\\\\sun$\\nis reduced in the presence of rapid rotation.\\n</td>\n",
       "      <td>['Astrophysics']</td>\n",
       "    </tr>\n",
       "    <tr>\n",
       "      <th>3</th>\n",
       "      <td>Very High Energy Gamma-Rays from AGN: Cascading on the Cosmic Background\\n  Radiation Fields and the Formation of Pair Halos</td>\n",
       "      <td>1993-12-18</td>\n",
       "      <td>Recent high energy gamma-ray observations (E&gt;100 MeV) of blazar AGN show\\nemission spectra with no clear upper energy cutoff. AGN, considered to be\\npossible sources for the highest energy cosmic rays, may have emission\\nextending well into the VHE (very high energy, E&gt;100 GeV) domain. Because VHE\\ngamma-rays are absorbed by pair production on the intergalactic background\\nradiation, much of this emission is not visible. Electromagnetic cascades\\ninitiated by absorbed VHE gamma-rays, however, may be observable. Since the\\nvelocities of e+e- pairs produced in a cascade are likely to be isotropized by\\nan ambient random magnetic field, extended ``halos\\'\\' (R&gt;1 Mpc) of pairs will be\\nformed around AGN with VHE emission. Cascade radiation from these pair halos is\\nemitted isotropically and is observable below a few TeV. The halo radiation can\\nbe distinguished by its characteristic variation in spectrum and intensity with\\nangular distance from the central source. This variation depends weakly on the\\ndetails of the central source model, e.g., the orientation and beaming/opening\\nangle of an emitting jet. Limiting or determining the intensity of the pair\\nhalo can thus serve as a model-independent bound on or measure of the VHE power\\nof AGN. Next-generation Cherenkov telescopes may be able to image a pair halo.\\n</td>\n",
       "      <td>['Astrophysics']</td>\n",
       "    </tr>\n",
       "    <tr>\n",
       "      <th>4</th>\n",
       "      <td>From the Owl to the Eskimo: the Radiation-Gasdynamics of Planetary\\n  Nebulae IV</td>\n",
       "      <td>1994-04-29</td>\n",
       "      <td>We present the results of two-dimensional radiation-gasdynamic simulations of\\naspherical Planetary Nebulae (PNe) evolution. These simulations were\\nconstructed using the Generalized Interacting Stellar Winds (GISW) scenario of\\nBalick (1987) where a fast, tenuous wind from the central star expands into a\\ntoroidal, slow, dense wind. We demonstrate that the GISW model can produce a\\nwide range of aspherical flow patterns.\\n  We have constructed self-consistent synthetic observations of the models from\\nforbidden line emissivities used in the energy loss term. We present integrated\\nintensity and long-slit spectrum, (Position-Velocity) maps of the models\\nprojected at different angles on the sky. These synthetic observations are\\ncompared with real intensity and Position-Velocity maps of PNe. We find that\\nthere is a very good match between the synthetic and real observations in terms\\nof morphologies, kinematics, and physical conditions.\\n  From the results of these simulations we conclude that the GISW scenario can\\naccount for most, if not all, PNe morphologies, thus confirming Balick\\'s (1987)\\nconjecture.\\n</td>\n",
       "      <td>['Astrophysics']</td>\n",
       "    </tr>\n",
       "  </tbody>\n",
       "</table>\n",
       "</div>"
      ],
      "text/plain": [
       "                                                                                                                          Title  \\\n",
       "0  The Neutrino Ball Model of a Quasar                                                                                            \n",
       "1  Charged Boson Stars and Vacuum Instabilities                                                                                   \n",
       "2  Pre-main sequence lithium burning. I. Weak T Tauri stars                                                                       \n",
       "3  Very High Energy Gamma-Rays from AGN: Cascading on the Cosmic Background\\n  Radiation Fields and the Formation of Pair Halos   \n",
       "4  From the Owl to the Eskimo: the Radiation-Gasdynamics of Planetary\\n  Nebulae IV                                               \n",
       "\n",
       "         Date  \\\n",
       "0  1993-04-07   \n",
       "1  1993-05-12   \n",
       "2  1993-08-31   \n",
       "3  1993-12-18   \n",
       "4  1994-04-29   \n",
       "\n",
       "                                                                                                                                                                                                                                                                                                                                                                                                                                                                                                                                                                                                                                                                                                                                                                                                                                                                                                                                                                                                                                                                                                                                                                                                                                                                                                                                                                                 Abstract  \\\n",
       "0    It is suggested that the nonorthodox model of a quasar as a neutrino ball\\ndescribed in terms of the standard model extended by adding right-handed\\nneutrinos and the Majorana scalar field can be presented in order to explain a\\nquasar as a body of weak interacting neutrinos. Neutrino interaction with the\\nscalar Majorana field violates the lepton number and produces the mass\\nsplitting of the neutrino due to the sea-saw mechanism. In this model a quasar\\nis an object which appears in the result of the first order cosmological phase\\ntransition. In this interpretation a quasar may be regarded as a ball filled\\nwith Dirac neutrinos and can be treated as a remnant of phase transition with\\nunbroken global lepton symmetry. In this paper we study the macroscopic\\nparameters of such a configuration. In the result the mass-radius curve M(R)\\nfor the quasar is obtained.\\n                                                                                                                                                                                                                                                                                                                                                                                                                                                                          \n",
       "1    We consider charged boson stars and study their effect on the structure of\\nthe vacuum. For very compact particle like ``stars\", with constituent mass\\n$m_{*}$ close to the Planck mass $m_{Pl}$, i.e. $m_{*}^{2} = {\\\\cal O} (\\\\alpha\\nm_{Pl}^{2})$, we argue that there is a limiting total electric charge $Z_c$,\\nwhich, primarily, is due to the formation of a pion condensate ($Z_{c} \\\\simeq\\n0.5\\\\alpha^{-1}e$, where $\\\\alpha$ is the fine structure constant and $e$ is the\\nelectric charge of the positron). If the charge of the ``star\" is larger than\\n$Z_c$ we find numerical evidence for a complete screening indicating a limiting\\ncharge for a very compact object.\\n  There is also a less efficient competing charge screening mechanism due to\\nspontaneous electron-positron pair creation in which case $Z_{c} \\\\simeq\\n\\\\alpha^{-1}e$. Astrophysical and cosmological abundances of charged compact\\nboson stars are briefly discussed in terms of dark matter.\\n                                                                                                                                                                                                                                                                                                                                                                                         \n",
       "2    We derive lithium abundances in 53 T Tauri stars (TTS), concentrating on\\nweak-line TTS. Our study gives the following results: 1)At luminosities $\\\\ge\\n0.9 L\\\\sun$ the Li abundances are remarkably uniform, with a mean value,\\nlog~N(Li)=3.1, equal to the \"cosmic\" lithium abundance. 2)Significant Li\\ndepletion appears below 0.5~L$\\\\sun$ in the mass range 0.9-0.2 M$\\\\sun$ and\\nincreases towards lower luminosities. At the lower mass end (0.4-0.2 M$\\\\sun$),\\nthe observed luminosity of the Li burning turning point is about a factor 4\\nhigher than predicted by the models. At masses 1.2-1.0 M$\\\\sun$ the observations\\nimply less PMS Li burning than theoretically expected. Moreover we show that:\\n1)Low Li abundances appear only among stars with low $v\\\\sin{i}$. Fast rotators\\nwith masses around 0.8~M$\\\\sun$ do not show evidence for strong Li depletion\\ntowards lower luminosities as slow rotators do. 2)In a sample restricted to\\nonly K5-K7 stars we find that the angular momentum spread before Li burning\\nbegins is larger than a factor 10. Lithium depletion associated to angular\\nmomentum loss during PMS evolution is not required to explain the observed\\nabundances. The efficiency of PMS Li burning in the mass range 0.9-0.7~M$\\\\sun$\\nis reduced in the presence of rapid rotation.\\n                                             \n",
       "3    Recent high energy gamma-ray observations (E>100 MeV) of blazar AGN show\\nemission spectra with no clear upper energy cutoff. AGN, considered to be\\npossible sources for the highest energy cosmic rays, may have emission\\nextending well into the VHE (very high energy, E>100 GeV) domain. Because VHE\\ngamma-rays are absorbed by pair production on the intergalactic background\\nradiation, much of this emission is not visible. Electromagnetic cascades\\ninitiated by absorbed VHE gamma-rays, however, may be observable. Since the\\nvelocities of e+e- pairs produced in a cascade are likely to be isotropized by\\nan ambient random magnetic field, extended ``halos\\'\\' (R>1 Mpc) of pairs will be\\nformed around AGN with VHE emission. Cascade radiation from these pair halos is\\nemitted isotropically and is observable below a few TeV. The halo radiation can\\nbe distinguished by its characteristic variation in spectrum and intensity with\\nangular distance from the central source. This variation depends weakly on the\\ndetails of the central source model, e.g., the orientation and beaming/opening\\nangle of an emitting jet. Limiting or determining the intensity of the pair\\nhalo can thus serve as a model-independent bound on or measure of the VHE power\\nof AGN. Next-generation Cherenkov telescopes may be able to image a pair halo.\\n   \n",
       "4    We present the results of two-dimensional radiation-gasdynamic simulations of\\naspherical Planetary Nebulae (PNe) evolution. These simulations were\\nconstructed using the Generalized Interacting Stellar Winds (GISW) scenario of\\nBalick (1987) where a fast, tenuous wind from the central star expands into a\\ntoroidal, slow, dense wind. We demonstrate that the GISW model can produce a\\nwide range of aspherical flow patterns.\\n  We have constructed self-consistent synthetic observations of the models from\\nforbidden line emissivities used in the energy loss term. We present integrated\\nintensity and long-slit spectrum, (Position-Velocity) maps of the models\\nprojected at different angles on the sky. These synthetic observations are\\ncompared with real intensity and Position-Velocity maps of PNe. We find that\\nthere is a very good match between the synthetic and real observations in terms\\nof morphologies, kinematics, and physical conditions.\\n  From the results of these simulations we conclude that the GISW scenario can\\naccount for most, if not all, PNe morphologies, thus confirming Balick\\'s (1987)\\nconjecture.\\n                                                                                                                                                                                                               \n",
       "\n",
       "                                                       Subjects  \n",
       "0  ['Astrophysics']                                              \n",
       "1  ['Astrophysics', 'General Relativity and Quantum Cosmology']  \n",
       "2  ['Astrophysics']                                              \n",
       "3  ['Astrophysics']                                              \n",
       "4  ['Astrophysics']                                              "
      ]
     },
     "execution_count": 3,
     "metadata": {},
     "output_type": "execute_result"
    }
   ],
   "source": [
    "data.head()"
   ]
  },
  {
   "cell_type": "markdown",
   "metadata": {},
   "source": [
    "## Data PreProcessing"
   ]
  },
  {
   "cell_type": "code",
   "execution_count": 4,
   "metadata": {},
   "outputs": [],
   "source": [
    "data.drop(['Date'],axis=1,inplace=True)\n",
    "data['Subjects']=data['Subjects'].str.replace('[','')\n",
    "data['Subjects']=data['Subjects'].str.replace(']','')\n",
    "data1 = data['Subjects'].str.split(',',expand=True)\n",
    "data['Subjects'] = data1[0]"
   ]
  },
  {
   "cell_type": "code",
   "execution_count": 5,
   "metadata": {},
   "outputs": [],
   "source": [
    "title =[]\n",
    "subjects =[]\n",
    "abstract=[]\n",
    "for i in range(1,8):\n",
    "    for j in range(len(data1[i])):\n",
    "        if(data1[i][j]!=None):\n",
    "            title.append(data['Title'][j])\n",
    "            subjects.append(data['Subjects'][j])\n",
    "            abstract.append(data['Abstract'][j])\n",
    "data_join=pd.DataFrame(list(zip(title, abstract,subjects)), \n",
    "               columns =['Title','Abstract','Subjects']) "
   ]
  },
  {
   "cell_type": "code",
   "execution_count": 6,
   "metadata": {},
   "outputs": [],
   "source": [
    "df = pd.concat([data,data_join],ignore_index=True)"
   ]
  },
  {
   "cell_type": "code",
   "execution_count": null,
   "metadata": {},
   "outputs": [],
   "source": [
    "# Considering both Title and Abstract for training"
   ]
  },
  {
   "cell_type": "code",
   "execution_count": 79,
   "metadata": {},
   "outputs": [],
   "source": [
    "X =df['Title'].str.cat(df[\"Abstract\"],sep=\" \")\n",
    "y =df['Subjects']"
   ]
  },
  {
   "cell_type": "code",
   "execution_count": 80,
   "metadata": {},
   "outputs": [],
   "source": [
    "from sklearn.model_selection import train_test_split\n",
    "X_train, X_test, y_train, y_test = train_test_split(X, y, test_size=0.33, random_state=42)"
   ]
  },
  {
   "cell_type": "code",
   "execution_count": 115,
   "metadata": {},
   "outputs": [
    {
     "data": {
      "text/plain": [
       "(31904, 64077)"
      ]
     },
     "execution_count": 115,
     "metadata": {},
     "output_type": "execute_result"
    }
   ],
   "source": [
    "from sklearn.feature_extraction.text import CountVectorizer\n",
    "count_vect = CountVectorizer()\n",
    "X_train_counts = count_vect.fit_transform(X_train)\n",
    "X_train_counts.shape"
   ]
  },
  {
   "cell_type": "code",
   "execution_count": 116,
   "metadata": {},
   "outputs": [
    {
     "data": {
      "text/plain": [
       "(31904, 64077)"
      ]
     },
     "execution_count": 116,
     "metadata": {},
     "output_type": "execute_result"
    }
   ],
   "source": [
    "from sklearn.feature_extraction.text import TfidfTransformer\n",
    "tfidf_transformer = TfidfTransformer()\n",
    "X_train_tfidf = tfidf_transformer.fit_transform(X_train_counts)\n",
    "X_train_tfidf.shape"
   ]
  },
  {
   "cell_type": "code",
   "execution_count": 83,
   "metadata": {},
   "outputs": [
    {
     "data": {
      "text/plain": [
       "Pipeline(memory=None,\n",
       "         steps=[('tfidf',\n",
       "                 TfidfVectorizer(analyzer='word', binary=False,\n",
       "                                 decode_error='strict',\n",
       "                                 dtype=<class 'numpy.float64'>,\n",
       "                                 encoding='utf-8', input='content',\n",
       "                                 lowercase=True, max_df=1.0, max_features=None,\n",
       "                                 min_df=1, ngram_range=(1, 1), norm='l2',\n",
       "                                 preprocessor=None, smooth_idf=True,\n",
       "                                 stop_words=None, strip_accents=None,\n",
       "                                 sublinear_tf=False,\n",
       "                                 token_pattern='...\n",
       "                 RandomForestClassifier(bootstrap=True, class_weight=None,\n",
       "                                        criterion='gini', max_depth=None,\n",
       "                                        max_features='auto',\n",
       "                                        max_leaf_nodes=None,\n",
       "                                        min_impurity_decrease=0.0,\n",
       "                                        min_impurity_split=None,\n",
       "                                        min_samples_leaf=1, min_samples_split=2,\n",
       "                                        min_weight_fraction_leaf=0.0,\n",
       "                                        n_estimators=150, n_jobs=None,\n",
       "                                        oob_score=False, random_state=None,\n",
       "                                        verbose=0, warm_start=False))],\n",
       "         verbose=False)"
      ]
     },
     "execution_count": 83,
     "metadata": {},
     "output_type": "execute_result"
    }
   ],
   "source": [
    "from sklearn.pipeline import Pipeline\n",
    "from sklearn.feature_extraction.text import TfidfVectorizer\n",
    "from sklearn.ensemble import RandomForestClassifier\n",
    "\n",
    "text_clf = Pipeline([('tfidf', TfidfVectorizer()),\n",
    "                     ('clf', RandomForestClassifier(n_estimators=150)),\n",
    "])\n",
    "\n",
    "# Feed the training data through the pipeline\n",
    "text_clf.fit(X_train, y_train)  "
   ]
  },
  {
   "cell_type": "code",
   "execution_count": 123,
   "metadata": {},
   "outputs": [],
   "source": [
    "predictions = text_clf.predict(X_test)"
   ]
  },
  {
   "cell_type": "code",
   "execution_count": null,
   "metadata": {},
   "outputs": [],
   "source": [
    "# Accuracy of the model is 88.3%"
   ]
  },
  {
   "cell_type": "code",
   "execution_count": 86,
   "metadata": {},
   "outputs": [
    {
     "name": "stdout",
     "output_type": "stream",
     "text": [
      "0.8834871142220808\n"
     ]
    }
   ],
   "source": [
    "print(metrics.accuracy_score(y_test,predictions))"
   ]
  },
  {
   "cell_type": "markdown",
   "metadata": {},
   "source": [
    "## Filling the values in submit.csv"
   ]
  },
  {
   "cell_type": "code",
   "execution_count": 87,
   "metadata": {},
   "outputs": [],
   "source": [
    "test_df=pd.read_csv(\"Test_Data.csv\")"
   ]
  },
  {
   "cell_type": "code",
   "execution_count": 88,
   "metadata": {},
   "outputs": [],
   "source": [
    "date_backup=test_df[\"Date\"]"
   ]
  },
  {
   "cell_type": "code",
   "execution_count": 89,
   "metadata": {},
   "outputs": [],
   "source": [
    "test_df.drop([\"Date\"],axis=1,inplace=True)"
   ]
  },
  {
   "cell_type": "code",
   "execution_count": 98,
   "metadata": {},
   "outputs": [],
   "source": [
    "testing_data =test_df['Title'].str.cat(test_df[\"Abstract\"],sep=\" \")"
   ]
  },
  {
   "cell_type": "code",
   "execution_count": 99,
   "metadata": {},
   "outputs": [],
   "source": [
    "predictions=text_clf.predict(testing_data)"
   ]
  },
  {
   "cell_type": "code",
   "execution_count": 100,
   "metadata": {},
   "outputs": [
    {
     "data": {
      "text/plain": [
       "array([\"'Astrophysics - High Energy Astrophysical Phenomena'\",\n",
       "       \"'Astrophysics - Cosmology and Nongalactic Astrophysics'\",\n",
       "       \"'Astrophysics - Solar and Stellar Astrophysics'\", ...,\n",
       "       \"'Astrophysics - High Energy Astrophysical Phenomena'\",\n",
       "       \"'Astrophysics - High Energy Astrophysical Phenomena'\",\n",
       "       \"'Astrophysics - Solar and Stellar Astrophysics'\"], dtype=object)"
      ]
     },
     "execution_count": 100,
     "metadata": {},
     "output_type": "execute_result"
    }
   ],
   "source": [
    "predictions"
   ]
  },
  {
   "cell_type": "code",
   "execution_count": 101,
   "metadata": {},
   "outputs": [],
   "source": [
    "pred_df=pd.DataFrame(predictions,columns=[\"Prediction\"])"
   ]
  },
  {
   "cell_type": "code",
   "execution_count": 102,
   "metadata": {},
   "outputs": [],
   "source": [
    "Date_df=date_backup.str.split(\"-\",expand=True)\n",
    "Date_df.rename(columns={0:\"Year\",1:\"Month\",2:\"DATE\"},inplace=True)"
   ]
  },
  {
   "cell_type": "code",
   "execution_count": 103,
   "metadata": {},
   "outputs": [],
   "source": [
    "a=Date_df[\"Month\"]"
   ]
  },
  {
   "cell_type": "code",
   "execution_count": 104,
   "metadata": {},
   "outputs": [],
   "source": [
    "submit_df=pd.concat((a,pred_df),axis=1)"
   ]
  },
  {
   "cell_type": "code",
   "execution_count": 105,
   "metadata": {},
   "outputs": [
    {
     "data": {
      "text/plain": [
       "'Astrophysics - Astrophysics of Galaxies'                        379\n",
       "'Astrophysics - High Energy Astrophysical Phenomena'             290\n",
       "'Astrophysics - Solar and Stellar Astrophysics'                  205\n",
       "'Astrophysics - Cosmology and Nongalactic Astrophysics'          159\n",
       "'Astrophysics - Earth and Planetary Astrophysics'                135\n",
       "'Astrophysics - Instrumentation and Methods for Astrophysics'    93 \n",
       "'General Relativity and Quantum Cosmology'                       72 \n",
       "'High Energy Physics - Phenomenology'                            36 \n",
       "'Nuclear Theory'                                                 1  \n",
       "'High Energy Physics - Theory'                                   1  \n",
       "Name: Prediction, dtype: int64"
      ]
     },
     "execution_count": 105,
     "metadata": {},
     "output_type": "execute_result"
    }
   ],
   "source": [
    "may=submit_df[submit_df[\"Month\"]=='05']\n",
    "may[\"Prediction\"].value_counts()"
   ]
  },
  {
   "cell_type": "code",
   "execution_count": 106,
   "metadata": {},
   "outputs": [
    {
     "data": {
      "text/plain": [
       "'Astrophysics - Astrophysics of Galaxies'                        321\n",
       "'Astrophysics - High Energy Astrophysical Phenomena'             265\n",
       "'Astrophysics - Solar and Stellar Astrophysics'                  208\n",
       "'Astrophysics - Cosmology and Nongalactic Astrophysics'          147\n",
       "'Astrophysics - Earth and Planetary Astrophysics'                113\n",
       "'Astrophysics - Instrumentation and Methods for Astrophysics'    76 \n",
       "'General Relativity and Quantum Cosmology'                       61 \n",
       "'High Energy Physics - Phenomenology'                            27 \n",
       "'High Energy Physics - Theory'                                   1  \n",
       "'Nuclear Theory'                                                 1  \n",
       "Name: Prediction, dtype: int64"
      ]
     },
     "execution_count": 106,
     "metadata": {},
     "output_type": "execute_result"
    }
   ],
   "source": [
    "may=submit_df[submit_df[\"Month\"]=='06']\n",
    "may[\"Prediction\"].value_counts()"
   ]
  },
  {
   "cell_type": "code",
   "execution_count": 107,
   "metadata": {},
   "outputs": [
    {
     "data": {
      "text/plain": [
       "'Astrophysics - Astrophysics of Galaxies'                        357\n",
       "'Astrophysics - High Energy Astrophysical Phenomena'             290\n",
       "'Astrophysics - Cosmology and Nongalactic Astrophysics'          214\n",
       "'Astrophysics - Solar and Stellar Astrophysics'                  196\n",
       "'Astrophysics - Instrumentation and Methods for Astrophysics'    177\n",
       "'Astrophysics - Earth and Planetary Astrophysics'                139\n",
       "'General Relativity and Quantum Cosmology'                       55 \n",
       "'High Energy Physics - Phenomenology'                            32 \n",
       "Name: Prediction, dtype: int64"
      ]
     },
     "execution_count": 107,
     "metadata": {},
     "output_type": "execute_result"
    }
   ],
   "source": [
    "may=submit_df[submit_df[\"Month\"]=='07']\n",
    "may[\"Prediction\"].value_counts()"
   ]
  },
  {
   "cell_type": "code",
   "execution_count": 108,
   "metadata": {},
   "outputs": [
    {
     "data": {
      "text/plain": [
       "'Astrophysics - High Energy Astrophysical Phenomena'             345\n",
       "'Astrophysics - Astrophysics of Galaxies'                        324\n",
       "'Astrophysics - Solar and Stellar Astrophysics'                  236\n",
       "'Astrophysics - Instrumentation and Methods for Astrophysics'    150\n",
       "'Astrophysics - Cosmology and Nongalactic Astrophysics'          143\n",
       "'Astrophysics - Earth and Planetary Astrophysics'                129\n",
       "'General Relativity and Quantum Cosmology'                       60 \n",
       "'High Energy Physics - Phenomenology'                            19 \n",
       "Name: Prediction, dtype: int64"
      ]
     },
     "execution_count": 108,
     "metadata": {},
     "output_type": "execute_result"
    }
   ],
   "source": [
    "may=submit_df[submit_df[\"Month\"]=='08']\n",
    "may[\"Prediction\"].value_counts()"
   ]
  },
  {
   "cell_type": "code",
   "execution_count": 109,
   "metadata": {},
   "outputs": [
    {
     "data": {
      "text/plain": [
       "'Astrophysics - Astrophysics of Galaxies'                        433\n",
       "'Astrophysics - High Energy Astrophysical Phenomena'             341\n",
       "'Astrophysics - Solar and Stellar Astrophysics'                  219\n",
       "'Astrophysics - Cosmology and Nongalactic Astrophysics'          161\n",
       "'Astrophysics - Instrumentation and Methods for Astrophysics'    147\n",
       "'Astrophysics - Earth and Planetary Astrophysics'                126\n",
       "'General Relativity and Quantum Cosmology'                       61 \n",
       "'High Energy Physics - Phenomenology'                            24 \n",
       "Name: Prediction, dtype: int64"
      ]
     },
     "execution_count": 109,
     "metadata": {},
     "output_type": "execute_result"
    }
   ],
   "source": [
    "may=submit_df[submit_df[\"Month\"]=='09']\n",
    "may[\"Prediction\"].value_counts()"
   ]
  },
  {
   "cell_type": "code",
   "execution_count": 110,
   "metadata": {},
   "outputs": [
    {
     "data": {
      "text/plain": [
       "'Astrophysics - Astrophysics of Galaxies'                        102\n",
       "'Astrophysics - High Energy Astrophysical Phenomena'             78 \n",
       "'Astrophysics - Solar and Stellar Astrophysics'                  75 \n",
       "'Astrophysics - Cosmology and Nongalactic Astrophysics'          60 \n",
       "'Astrophysics - Earth and Planetary Astrophysics'                32 \n",
       "'Astrophysics - Instrumentation and Methods for Astrophysics'    32 \n",
       "'General Relativity and Quantum Cosmology'                       15 \n",
       "'High Energy Physics - Phenomenology'                            7  \n",
       "Name: Prediction, dtype: int64"
      ]
     },
     "execution_count": 110,
     "metadata": {},
     "output_type": "execute_result"
    }
   ],
   "source": [
    "may=submit_df[submit_df[\"Month\"]=='10']\n",
    "may[\"Prediction\"].value_counts()"
   ]
  },
  {
   "cell_type": "code",
   "execution_count": null,
   "metadata": {},
   "outputs": [],
   "source": []
  },
  {
   "cell_type": "code",
   "execution_count": null,
   "metadata": {},
   "outputs": [],
   "source": []
  }
 ],
 "metadata": {
  "kernelspec": {
   "display_name": "Python 3",
   "language": "python",
   "name": "python3"
  },
  "language_info": {
   "codemirror_mode": {
    "name": "ipython",
    "version": 3
   },
   "file_extension": ".py",
   "mimetype": "text/x-python",
   "name": "python",
   "nbconvert_exporter": "python",
   "pygments_lexer": "ipython3",
   "version": "3.6.8"
  }
 },
 "nbformat": 4,
 "nbformat_minor": 2
}
